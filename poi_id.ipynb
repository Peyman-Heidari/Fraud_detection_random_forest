{
 "cells": [
  {
   "cell_type": "markdown",
   "metadata": {},
   "source": [
    "# Enron Fraud Detection using Email and Financial Data\n",
    "\n",
    "In 2000, Enron was one of the largest companies in the United States. By 2002, it had collapsed into bankruptcy due to widespread corporate fraud. In the resulting Federal investigation, a significant amount of typically confidential information entered into the public record, including tens of thousands of emails and detailed financial data for top executives.\n",
    "\n",
    "The goal of this project is to use  email (text) and financial data to construct a predictive model that could identify an individual as a person of interest (poi). The [Enron corpus](https://www.cs.cmu.edu/~./enron/) was made public by the US Federal Energy Regulatory Comission during its investgiation of Enron, which comprised email and financial data of 146 individuals mostly in senior management positions. The data has been widely used for various machine learning problems. However, there is value in the mentioned analysis for potential use to identify similar cases in other companies or for spam filtering application."
   ]
  },
  {
   "cell_type": "markdown",
   "metadata": {},
   "source": [
    "### First, all needed packages and functions are imported."
   ]
  },
  {
   "cell_type": "code",
   "execution_count": 133,
   "metadata": {
    "collapsed": false
   },
   "outputs": [],
   "source": [
    "import sys\n",
    "sys.path.append( \"../tools/\" )\n",
    "sys.path.append( \"../enron_mail_20110402/\" )\n",
    "sys.path.append( \"../emails_by_address/\" )\n",
    "import math\n",
    "from nltk.stem.snowball import SnowballStemmer\n",
    "from nltk.corpus import stopwords\n",
    "import string\n",
    "import os\n",
    "import pickle\n",
    "import re\n",
    "import pandas as pd\n",
    "from sklearn.feature_extraction.text import TfidfVectorizer\n",
    "from sklearn.model_selection import train_test_split\n",
    "from sklearn.feature_selection import SelectPercentile, f_classif\n",
    "from sklearn import preprocessing\n",
    "from sklearn.ensemble import RandomForestClassifier\n",
    "from sklearn.ensemble import AdaBoostClassifier\n",
    "from sklearn.naive_bayes import GaussianNB\n",
    "from sklearn.svm import SVC\n",
    "from sklearn.linear_model import LogisticRegression\n",
    "from sklearn.linear_model import SGDClassifier\n",
    "from sklearn.tree import DecisionTreeClassifier\n",
    "import matplotlib.pylab as plt\n",
    "from sklearn.decomposition import PCA\n",
    "from sklearn.model_selection import GridSearchCV\n",
    "from sklearn.pipeline import Pipeline, FeatureUnion\n",
    "from sklearn.cross_validation import StratifiedShuffleSplit\n",
    "from sklearn.metrics import confusion_matrix\n",
    "from sklearn.metrics import recall_score\n",
    "from sklearn.metrics import precision_score\n",
    "from sklearn.metrics import f1_score\n",
    "from poi_email_addresses import poiEmails\n",
    "from feature_format import featureFormat, targetFeatureSplit\n",
    "from tester import dump_classifier_and_data\n",
    "from collections import defaultdict\n",
    "import matplotlib.pyplot as plt"
   ]
  },
  {
   "cell_type": "markdown",
   "metadata": {},
   "source": [
    "### Load the financial data"
   ]
  },
  {
   "cell_type": "code",
   "execution_count": 6,
   "metadata": {
    "collapsed": false
   },
   "outputs": [],
   "source": [
    "### Load the dictionary containing the dataset\n",
    "with open(\"final_project_dataset.pkl\", \"r\") as data_file:\n",
    "    data_dict = pickle.load(data_file)"
   ]
  },
  {
   "cell_type": "markdown",
   "metadata": {},
   "source": [
    "## Email Data"
   ]
  },
  {
   "cell_type": "code",
   "execution_count": 7,
   "metadata": {
    "collapsed": true
   },
   "outputs": [],
   "source": [
    "### Make a list of email addresses of persons of interest (poi)\n",
    "poi_emails = poiEmails()\n",
    "emails = []\n",
    "for name in data_dict:\n",
    "    if data_dict[name]['email_address']!='NaN':\n",
    "        emails.append(data_dict[name]['email_address'])"
   ]
  },
  {
   "cell_type": "code",
   "execution_count": 8,
   "metadata": {
    "collapsed": true
   },
   "outputs": [],
   "source": [
    "### Make a list of all names of the individuals to remove from\n",
    "### the email data (signature or mentions) to stop unrealistic performance.\n",
    "names = []\n",
    "for name in data_dict:\n",
    "    name = re.sub('[^a-zA-Z \\n\\.]', ' ', name)\n",
    "    name = name.replace('\\n', ' ').replace('\\r', '').replace('\\t', ' ')\n",
    "    name = re.sub(' +', ' ', name)\n",
    "    name = name.strip()\n",
    "    name = name.lower()\n",
    "    name_components = name.split(\" \")\n",
    "    names.extend(name_components)"
   ]
  },
  {
   "cell_type": "code",
   "execution_count": 9,
   "metadata": {
    "collapsed": true
   },
   "outputs": [],
   "source": [
    "def stem_it(word):\n",
    "    \"\"\" input a word and receive the stemmed word\n",
    "        \"\"\"\n",
    "    stemmer = SnowballStemmer(\"english\")\n",
    "    stemmed_word = stemmer.stem(word)\n",
    "    return stemmed_word\n",
    "\n",
    "def parseOutText(f):\n",
    "    \"\"\" given an opened email file f, parse out all text below the\n",
    "        metadata block at the top, remove stopwords and add stemming.\n",
    "        and return a list that contains all the words\n",
    "        in the email.\n",
    "        \"\"\"\n",
    "    f.seek(0)  ### go back to beginning of file.\n",
    "    all_text = f.read()\n",
    "\n",
    "    ### split off metadata\n",
    "    content = all_text.split(\"X-FileName:\")\n",
    "    words = \"\"\n",
    "    if len(content) > 1:\n",
    "        ### remove punctuation\n",
    "        text_string = content[1].translate(string.maketrans(\"\", \"\"), string.punctuation)\n",
    "\n",
    "        ### preprocessing\n",
    "        text_string = re.sub('[^a-zA-Z \\n\\.]', ' ', text_string)\n",
    "        text_string = text_string.replace('\\n', ' ').replace('\\r', '').replace('\\t', ' ')\n",
    "        text_string = re.sub(' +', ' ', text_string)\n",
    "        text_string = text_string.lower()\n",
    "        text_string = text_string.strip()\n",
    "        words = text_string.split(\" \")\n",
    "\n",
    "        ### split the text string into individual words,remove stopwords stem each word,\n",
    "        ### and append the stemmed word to words.\n",
    "        sw = stopwords.words('english')\n",
    "        filtered_words = [word for word in words if word not in sw]\n",
    "        filtered_words = [word for word in filtered_words if word not in names]\n",
    "        stemmed_words = [stem_it(word) for word in filtered_words]\n",
    "        stemmed_words_pasted = \" \".join(stemmed_words)\n",
    "\n",
    "    return stemmed_words"
   ]
  },
  {
   "cell_type": "code",
   "execution_count": null,
   "metadata": {
    "collapsed": true
   },
   "outputs": [],
   "source": [
    "### Construct a list of stemmed words in emails sent from \n",
    "### each email address.\n",
    "\n",
    "from_data = []\n",
    "word_database = []\n",
    "\n",
    "for email in emails:\n",
    "    temp_counter = 0\n",
    "    word_data = []\n",
    "    from_email = 'emails_by_address/from_'+email+'.txt'\n",
    "    # Do not take in financial data of an individual \n",
    "    # if email is not available.\n",
    "    try:\n",
    "        from_person = open(from_email, \"r\")\n",
    "    except:\n",
    "        continue\n",
    "    for path in from_person:\n",
    "        if temp_counter < 4:\n",
    "            #temp_counter += 1\n",
    "            path = os.path.join('..', path[:-1])\n",
    "            email_txt = open(path, \"r\")\n",
    "            txt = parseOutText(email_txt)\n",
    "            word_data.extend(txt)\n",
    "    email_txt.close()\n",
    "    word_data_pasted = \" \".join(word_data)\n",
    "    word_database.append(word_data_pasted)\n",
    "    from_data.append(email)\n",
    "    from_person.close()\n",
    "        "
   ]
  },
  {
   "cell_type": "code",
   "execution_count": null,
   "metadata": {
    "collapsed": true
   },
   "outputs": [],
   "source": [
    "### Save (Pickle) email data and sender data for fast load.\n",
    "pickle.dump( word_database, open(\"word_database.pkl\", \"w\") )\n",
    "pickle.dump( from_data, open(\"from_data.pkl\", \"w\") )"
   ]
  },
  {
   "cell_type": "code",
   "execution_count": 92,
   "metadata": {
    "collapsed": false
   },
   "outputs": [],
   "source": [
    "### Load the email data and sender data.\n",
    "word_database = pickle.load(open(\"word_database.pkl\", \"r\") )\n",
    "from_data = pickle.load(open(\"from_data.pkl\", \"r\") )"
   ]
  },
  {
   "cell_type": "markdown",
   "metadata": {},
   "source": [
    "## Financial Data"
   ]
  },
  {
   "cell_type": "code",
   "execution_count": 93,
   "metadata": {
    "collapsed": true
   },
   "outputs": [],
   "source": [
    "### Select what features to start with\n",
    "\n",
    "all_features =  ['salary', 'to_messages', 'deferral_payments', 'total_payments',\n",
    "                 'exercised_stock_options', 'bonus', 'restricted_stock',\n",
    "                 'shared_receipt_with_poi', 'restricted_stock_deferred', 'total_stock_value',\n",
    "                 'expenses', 'loan_advances', 'from_messages', 'other',\n",
    "                 'from_this_person_to_poi', 'poi', 'director_fees', 'deferred_income',\n",
    "                 'long_term_incentive', 'email_address', 'from_poi_to_this_person']\n"
   ]
  },
  {
   "cell_type": "code",
   "execution_count": 94,
   "metadata": {
    "collapsed": false
   },
   "outputs": [],
   "source": [
    "### Extract the data from the dictionary and save it\n",
    "### a panda dataframe\n",
    "database_dict = defaultdict(list)\n",
    "for name in data_dict:\n",
    "    if (data_dict[name]['email_address']!='NaN') and (data_dict[name]['email_address'] in from_data):\n",
    "        for feature in all_features:\n",
    "            if data_dict[name][feature]=='NaN':\n",
    "                database_dict[feature].append(None)\n",
    "            else:\n",
    "                database_dict[feature].append(data_dict[name][feature])\n",
    "                \n",
    "database_numerical = pd.DataFrame(database_dict)\n",
    "database_numerical['poi'] = database_numerical['poi'].map({True:1, False:0})\n",
    "database_numerical = database_numerical.fillna(0)"
   ]
  },
  {
   "cell_type": "code",
   "execution_count": 95,
   "metadata": {
    "collapsed": true
   },
   "outputs": [],
   "source": [
    "### Task 3: Create new feature(s)\n",
    "database_numerical['all_messages'] = database_numerical['from_messages']+database_numerical['to_messages']\n",
    "database_numerical['all_poi_messages'] = database_numerical['from_this_person_to_poi']+\\\n",
    "                                        database_numerical['from_poi_to_this_person']\n",
    "database_numerical['poi_to_all_ratio'] = database_numerical['all_poi_messages']/database_numerical['all_messages']\n",
    "database_numerical['total_payments_log'] = (database_numerical['total_payments']+1e-3).apply(math.log)\n",
    "database_numerical['salary_log'] = (database_numerical['salary']+1e-3).apply(math.log)\n",
    "database_numerical['bonus_log'] = (database_numerical['bonus']+1e-3).apply(math.log)\n",
    "database_numerical['total_stock_value_log'] = (database_numerical['total_stock_value']+1e-3).apply(math.log)\n",
    "database_numerical['exercised_stock_options_log'] = (database_numerical['exercised_stock_options']+1e-3).apply(math.log)\n",
    "database_numerical['loan_advances_log'] = (database_numerical['loan_advances']+1e-3).apply(math.log)\n",
    "database_numerical['director_fees_log'] = (database_numerical['director_fees']+1e-3).apply(math.log)\n",
    "database_numerical['restricted_stock_log'] = abs(database_numerical['restricted_stock']+1e-3).apply(math.log)\n",
    "database_numerical['deferral_payments_log'] = (database_numerical['deferral_payments']+1e-3).apply(math.log)\n",
    "database_numerical['total_payments_sqrt'] = (database_numerical['total_payments']).apply(math.sqrt)\n",
    "database_numerical['salary_sqrt'] = (database_numerical['salary']).apply(math.sqrt)\n",
    "database_numerical['bonus_sqrt'] = (database_numerical['bonus']).apply(math.sqrt)\n",
    "database_numerical['total_stock_value_sqrt'] = (database_numerical['total_stock_value']).apply(math.sqrt)\n",
    "database_numerical['exercised_stock_options_sqrt'] = (database_numerical['exercised_stock_options']).apply(math.sqrt)\n",
    "database_numerical['loan_advances_sqrt'] = (database_numerical['loan_advances']).apply(math.sqrt)\n",
    "database_numerical['director_fees_sqrt'] = (database_numerical['director_fees']).apply(math.sqrt)\n",
    "database_numerical['restricted_stock_sqrt'] = abs(database_numerical['restricted_stock']).apply(math.sqrt)\n",
    "database_numerical['deferral_payments_sqrt'] = (database_numerical['deferral_payments']).apply(math.sqrt)\n",
    "database_numerical['total_payments_squared'] = (database_numerical['total_payments']).apply(lambda x:x**2)\n",
    "database_numerical['salary_squared'] = (database_numerical['salary']).apply(lambda x:x**2)\n",
    "database_numerical['bonus_squared'] = (database_numerical['bonus']).apply(lambda x:x**2)\n",
    "database_numerical['total_stock_value_squared'] = (database_numerical['total_stock_value']).apply(lambda x:x**2)\n",
    "database_numerical['exercised_stock_options_squared'] = (database_numerical['exercised_stock_options']).apply(lambda x:x**2)\n",
    "database_numerical['loan_advances_squared'] = (database_numerical['loan_advances']).apply(lambda x:x**2)\n",
    "database_numerical['director_fees_squared'] = (database_numerical['director_fees']).apply(lambda x:x**2)\n",
    "database_numerical['restricted_stock_squared'] = (database_numerical['restricted_stock']).apply(lambda x:x**2)\n",
    "database_numerical['deferral_payments_sqrd'] = (database_numerical['deferral_payments']).apply(lambda x:x**2)\n",
    "\n",
    "### Substitute 0 instead of NaN\n",
    "database_numerical = database_numerical.fillna(0)"
   ]
  },
  {
   "cell_type": "markdown",
   "metadata": {},
   "source": [
    "## Text analysis"
   ]
  },
  {
   "cell_type": "code",
   "execution_count": 96,
   "metadata": {
    "collapsed": false
   },
   "outputs": [],
   "source": [
    "### split the data into training and test datasets.\n",
    "features_train, features_test,labels_train,\\\n",
    "labels_test = train_test_split(word_database, from_data, test_size=0.2, random_state=42)\n",
    "\n",
    "\n",
    "### Use Tfidf to vectorize the email data\n",
    "vectorizer = TfidfVectorizer(sublinear_tf=True, max_df=0.2,\n",
    "                             stop_words='english')\n",
    "features_train_tfidf = vectorizer.fit_transform(features_train)\n",
    "features_test_tfidf  = vectorizer.transform(features_test)"
   ]
  },
  {
   "cell_type": "code",
   "execution_count": 97,
   "metadata": {
    "collapsed": false
   },
   "outputs": [],
   "source": [
    "### Perform encoding on the poi vaiable\n",
    "### 0:non-poi and 1:poi\n",
    "\n",
    "def label_encoder(labels):\n",
    "    labels_enconded =[]\n",
    "    for email in labels:\n",
    "        if email in poi_emails: labels_enconded.append(1)\n",
    "        else:labels_enconded.append(0)\n",
    "    return labels_enconded\n",
    "    \n",
    "labels_enconded = label_encoder(from_data)\n",
    "labels_train_enconded = label_encoder(labels_train)\n",
    "labels_test_enconded = label_encoder(labels_test)"
   ]
  },
  {
   "cell_type": "code",
   "execution_count": 98,
   "metadata": {
    "collapsed": false
   },
   "outputs": [
    {
     "name": "stdout",
     "output_type": "stream",
     "text": [
      "14\n",
      "4\n",
      "86\n"
     ]
    }
   ],
   "source": [
    "print sum(labels_enconded)\n",
    "print sum(labels_test_enconded)\n",
    "print len(labels_enconded)"
   ]
  },
  {
   "cell_type": "markdown",
   "metadata": {},
   "source": [
    "#### There are 14 points in the data set, 14 in the training data set and 4 in the test dataset. \n",
    "#### Overal, 86 samples (poi and non-poi) are avaible with email data."
   ]
  },
  {
   "cell_type": "code",
   "execution_count": 99,
   "metadata": {
    "collapsed": false
   },
   "outputs": [
    {
     "name": "stdout",
     "output_type": "stream",
     "text": [
      "KOPPER MICHAEL J\n",
      "michael.kopper@enron.com\n",
      "FASTOW ANDREW S\n",
      "andrew.fastow@enron.com\n",
      "YEAGER F SCOTT\n",
      "scott.yeager@enron.com\n",
      "HIRKO JOSEPH\n",
      "joe.hirko@enron.com\n"
     ]
    }
   ],
   "source": [
    "### Check if poi are avaialable with financial data but no email data\n",
    "for name in data_dict:\n",
    "    if data_dict[name]['poi']==True and\\\n",
    "    data_dict[name]['email_address'] not in from_data:\n",
    "        print name\n",
    "        print data_dict[name]['email_address']"
   ]
  },
  {
   "cell_type": "markdown",
   "metadata": {},
   "source": [
    "### Feature selection"
   ]
  },
  {
   "cell_type": "code",
   "execution_count": 100,
   "metadata": {
    "collapsed": true
   },
   "outputs": [],
   "source": [
    "### Test classifier based on data needed for feature selection and evaluations later\n",
    "def classifier_tester(clf, features, labels, folds = 1000):\n",
    "    cv = StratifiedShuffleSplit(labels, folds, random_state = 42)\n",
    "    true_negatives = 0\n",
    "    false_negatives = 0\n",
    "    true_positives = 0\n",
    "    false_positives = 0\n",
    "    for train_idx, test_idx in cv: \n",
    "        features_train = []\n",
    "        features_test  = []\n",
    "        labels_train   = []\n",
    "        labels_test    = []\n",
    "        for ii in train_idx:\n",
    "            features_train.append( features[ii] )\n",
    "            labels_train.append( labels[ii] )\n",
    "        for jj in test_idx:\n",
    "            features_test.append( features[jj] )\n",
    "            labels_test.append( labels[jj] )\n",
    "        \n",
    "        ### fit the classifier using training set, and test on test set\n",
    "        clf.fit(features_train, labels_train)\n",
    "        predictions = clf.predict(features_test)\n",
    "        for prediction, truth in zip(predictions, labels_test):\n",
    "            if prediction == 0 and truth == 0:\n",
    "                true_negatives += 1\n",
    "            elif prediction == 0 and truth == 1:\n",
    "                false_negatives += 1\n",
    "            elif prediction == 1 and truth == 0:\n",
    "                false_positives += 1\n",
    "            elif prediction == 1 and truth == 1:\n",
    "                true_positives += 1\n",
    "            else:\n",
    "                print \"Warning: Found a predicted label not == 0 or 1.\"\n",
    "                print \"All predictions should take value 0 or 1.\"\n",
    "                print \"Evaluating performance for processed predictions:\"\n",
    "                break\n",
    "    try:\n",
    "        total_predictions = true_negatives + false_negatives + false_positives + true_positives\n",
    "        accuracy = 1.0*(true_positives + true_negatives)/total_predictions\n",
    "        precision = 1.0*true_positives/(true_positives+false_positives)\n",
    "        recall = 1.0*true_positives/(true_positives+false_negatives)\n",
    "        f1 = 2.0 * true_positives/(2*true_positives + false_positives+false_negatives)\n",
    "        f2 = (1+2.0*2.0) * precision*recall/(4*precision + recall)\n",
    "        print clf\n",
    "        print PERF_FORMAT_STRING.format(accuracy, precision, recall, f1, f2, display_precision = 5)\n",
    "        print RESULTS_FORMAT_STRING.format(total_predictions, true_positives, false_positives, false_negatives, true_negatives)\n",
    "        print \"\"\n",
    "    except:\n",
    "        print \"Got a divide by zero when trying out:\", clf\n",
    "        print \"Precision or recall may be undefined due to a lack of true positive predicitons.\"\n",
    "        \n",
    "    return f1\n",
    "    \n"
   ]
  },
  {
   "cell_type": "code",
   "execution_count": 101,
   "metadata": {
    "collapsed": true
   },
   "outputs": [],
   "source": [
    "### This function is the pipeline that performs feature selection\n",
    "### The approach is a bit different from the normal approach and \n",
    "### using sklearn's pipeline was not possible\n",
    "### RandomForestClassifier is used here after iterations with other algorithms.\n",
    "### The same procedure will be repeated after feature selection with more comments.\n",
    "\n",
    "def feature_selection_pipeline(features_train_tfidf,labels_train_enconded,\\\n",
    "                               percentile, n_components, max_depth, n_estimators):\n",
    "    selector = SelectPercentile(f_classif, percentile=percentile)\n",
    "    selector.fit(features_train_tfidf, labels_train_enconded)\n",
    "    features_train_selected = selector.transform(features_train_tfidf)\n",
    "    features_test_selected  = selector.transform(features_test_tfidf)\n",
    "    pca = PCA(n_components=n_components)\n",
    "    pca.fit(features_train_selected.toarray())\n",
    "    features_train_selected = pca.transform(features_train_selected.toarray())\n",
    "    features_test_selected = pca.transform(features_test_selected.toarray())\n",
    "    data_base_train_tfidf = pd.DataFrame(features_train_selected)\n",
    "    data_base_test_tfidf = pd.DataFrame(features_test_selected)\n",
    "    data_base_train_tfidf['email_address'] = labels_train\n",
    "    data_base_test_tfidf['email_address'] = labels_test\n",
    "    database_numerical_train = database_numerical[database_numerical['email_address']\\\n",
    "                                                  .isin(data_base_train_tfidf['email_address'])]\n",
    "    database_numerical_test = database_numerical[database_numerical['email_address']\\\n",
    "                                                 .isin(data_base_test_tfidf['email_address'])]\n",
    "    data_base_train_tfidf = data_base_train_tfidf.set_index(['email_address'])\n",
    "    data_base_test_tfidf = data_base_test_tfidf.set_index(['email_address'])\n",
    "    database_numerical_train = database_numerical_train.set_index(['email_address'])\n",
    "    database_numerical_test = database_numerical_test.set_index(['email_address'])\n",
    "    database_train = database_numerical_train.join(data_base_train_tfidf)\n",
    "    database_test = database_numerical_test.join(data_base_test_tfidf)\n",
    "    train_labels = database_train['poi'].values\n",
    "    test_labels = database_test['poi'].values\n",
    "    database_train = database_train.drop('poi', axis=1).as_matrix()\n",
    "    database_test = database_test.drop('poi', axis=1).as_matrix()\n",
    "    scaler = preprocessing.MinMaxScaler()\n",
    "    scaler.fit(database_train)\n",
    "    database_train = scaler.transform(database_train)\n",
    "    database_test = scaler.transform(database_test)\n",
    "    clf_rf = RandomForestClassifier(bootstrap=True, class_weight=None, criterion='gini',\n",
    "            max_depth=max_depth, max_features='auto', max_leaf_nodes=None,\n",
    "            min_impurity_split=1e-07, min_samples_leaf=1,\n",
    "            min_samples_split=2, min_weight_fraction_leaf=0.0,\n",
    "            n_estimators=n_estimators, n_jobs=1, oob_score=False, random_state=42,\n",
    "            verbose=0, warm_start=False)\n",
    "    f1 = classifier_tester(clf_rf, database_train, train_labels, folds = 200)\n",
    "\n",
    "    return f1"
   ]
  },
  {
   "cell_type": "code",
   "execution_count": 181,
   "metadata": {
    "collapsed": false,
    "scrolled": true
   },
   "outputs": [
    {
     "name": "stdout",
     "output_type": "stream",
     "text": [
      "RandomForestClassifier(bootstrap=True, class_weight=None, criterion='gini',\n",
      "            max_depth=2, max_features='auto', max_leaf_nodes=None,\n",
      "            min_impurity_split=1e-07, min_samples_leaf=1,\n",
      "            min_samples_split=2, min_weight_fraction_leaf=0.0,\n",
      "            n_estimators=5, n_jobs=1, oob_score=False, random_state=42,\n",
      "            verbose=0, warm_start=False)\n",
      "\tAccuracy: 0.92000\tPrecision: 0.94898\tRecall: 0.46500\tF1: 0.62416\tF2: 0.51782\n",
      "\tTotal predictions: 1400\tTrue positives:   93\tFalse positives:    5\tFalse negatives:  107\tTrue negatives: 1195\n",
      "\n",
      "=======================new best 0.624161073826 10 40 2 5\n",
      "RandomForestClassifier(bootstrap=True, class_weight=None, criterion='gini',\n",
      "            max_depth=2, max_features='auto', max_leaf_nodes=None,\n",
      "            min_impurity_split=1e-07, min_samples_leaf=1,\n",
      "            min_samples_split=2, min_weight_fraction_leaf=0.0,\n",
      "            n_estimators=10, n_jobs=1, oob_score=False, random_state=42,\n",
      "            verbose=0, warm_start=False)\n",
      "\tAccuracy: 0.91286\tPrecision: 0.95349\tRecall: 0.41000\tF1: 0.57343\tF2: 0.46275\n",
      "\tTotal predictions: 1400\tTrue positives:   82\tFalse positives:    4\tFalse negatives:  118\tTrue negatives: 1196\n",
      "\n",
      "RandomForestClassifier(bootstrap=True, class_weight=None, criterion='gini',\n",
      "            max_depth=3, max_features='auto', max_leaf_nodes=None,\n",
      "            min_impurity_split=1e-07, min_samples_leaf=1,\n",
      "            min_samples_split=2, min_weight_fraction_leaf=0.0,\n",
      "            n_estimators=5, n_jobs=1, oob_score=False, random_state=42,\n",
      "            verbose=0, warm_start=False)\n",
      "\tAccuracy: 0.94071\tPrecision: 0.96063\tRecall: 0.61000\tF1: 0.74618\tF2: 0.65804\n",
      "\tTotal predictions: 1400\tTrue positives:  122\tFalse positives:    5\tFalse negatives:   78\tTrue negatives: 1195\n",
      "\n",
      "=======================new best 0.746177370031 10 40 3 5\n",
      "RandomForestClassifier(bootstrap=True, class_weight=None, criterion='gini',\n",
      "            max_depth=3, max_features='auto', max_leaf_nodes=None,\n",
      "            min_impurity_split=1e-07, min_samples_leaf=1,\n",
      "            min_samples_split=2, min_weight_fraction_leaf=0.0,\n",
      "            n_estimators=10, n_jobs=1, oob_score=False, random_state=42,\n",
      "            verbose=0, warm_start=False)\n",
      "\tAccuracy: 0.93929\tPrecision: 0.96748\tRecall: 0.59500\tF1: 0.73684\tF2: 0.64464\n",
      "\tTotal predictions: 1400\tTrue positives:  119\tFalse positives:    4\tFalse negatives:   81\tTrue negatives: 1196\n",
      "\n",
      "RandomForestClassifier(bootstrap=True, class_weight=None, criterion='gini',\n",
      "            max_depth=2, max_features='auto', max_leaf_nodes=None,\n",
      "            min_impurity_split=1e-07, min_samples_leaf=1,\n",
      "            min_samples_split=2, min_weight_fraction_leaf=0.0,\n",
      "            n_estimators=5, n_jobs=1, oob_score=False, random_state=42,\n",
      "            verbose=0, warm_start=False)\n",
      "\tAccuracy: 0.94357\tPrecision: 0.98400\tRecall: 0.61500\tF1: 0.75692\tF2: 0.66486\n",
      "\tTotal predictions: 1400\tTrue positives:  123\tFalse positives:    2\tFalse negatives:   77\tTrue negatives: 1198\n",
      "\n",
      "=======================new best 0.756923076923 10 50 2 5\n",
      "RandomForestClassifier(bootstrap=True, class_weight=None, criterion='gini',\n",
      "            max_depth=2, max_features='auto', max_leaf_nodes=None,\n",
      "            min_impurity_split=1e-07, min_samples_leaf=1,\n",
      "            min_samples_split=2, min_weight_fraction_leaf=0.0,\n",
      "            n_estimators=10, n_jobs=1, oob_score=False, random_state=42,\n",
      "            verbose=0, warm_start=False)\n",
      "\tAccuracy: 0.95429\tPrecision: 0.97222\tRecall: 0.70000\tF1: 0.81395\tF2: 0.74153\n",
      "\tTotal predictions: 1400\tTrue positives:  140\tFalse positives:    4\tFalse negatives:   60\tTrue negatives: 1196\n",
      "\n",
      "=======================new best 0.813953488372 10 50 2 10\n",
      "RandomForestClassifier(bootstrap=True, class_weight=None, criterion='gini',\n",
      "            max_depth=3, max_features='auto', max_leaf_nodes=None,\n",
      "            min_impurity_split=1e-07, min_samples_leaf=1,\n",
      "            min_samples_split=2, min_weight_fraction_leaf=0.0,\n",
      "            n_estimators=5, n_jobs=1, oob_score=False, random_state=42,\n",
      "            verbose=0, warm_start=False)\n",
      "\tAccuracy: 0.95857\tPrecision: 0.97973\tRecall: 0.72500\tF1: 0.83333\tF2: 0.76477\n",
      "\tTotal predictions: 1400\tTrue positives:  145\tFalse positives:    3\tFalse negatives:   55\tTrue negatives: 1197\n",
      "\n",
      "=======================new best 0.833333333333 10 50 3 5\n",
      "RandomForestClassifier(bootstrap=True, class_weight=None, criterion='gini',\n",
      "            max_depth=3, max_features='auto', max_leaf_nodes=None,\n",
      "            min_impurity_split=1e-07, min_samples_leaf=1,\n",
      "            min_samples_split=2, min_weight_fraction_leaf=0.0,\n",
      "            n_estimators=10, n_jobs=1, oob_score=False, random_state=42,\n",
      "            verbose=0, warm_start=False)\n",
      "\tAccuracy: 0.96071\tPrecision: 0.98013\tRecall: 0.74000\tF1: 0.84330\tF2: 0.77813\n",
      "\tTotal predictions: 1400\tTrue positives:  148\tFalse positives:    3\tFalse negatives:   52\tTrue negatives: 1197\n",
      "\n",
      "=======================new best 0.843304843305 10 50 3 10\n",
      "RandomForestClassifier(bootstrap=True, class_weight=None, criterion='gini',\n",
      "            max_depth=2, max_features='auto', max_leaf_nodes=None,\n",
      "            min_impurity_split=1e-07, min_samples_leaf=1,\n",
      "            min_samples_split=2, min_weight_fraction_leaf=0.0,\n",
      "            n_estimators=5, n_jobs=1, oob_score=False, random_state=42,\n",
      "            verbose=0, warm_start=False)\n",
      "\tAccuracy: 0.94786\tPrecision: 0.96350\tRecall: 0.66000\tF1: 0.78338\tF2: 0.70438\n",
      "\tTotal predictions: 1400\tTrue positives:  132\tFalse positives:    5\tFalse negatives:   68\tTrue negatives: 1195\n",
      "\n",
      "RandomForestClassifier(bootstrap=True, class_weight=None, criterion='gini',\n",
      "            max_depth=2, max_features='auto', max_leaf_nodes=None,\n",
      "            min_impurity_split=1e-07, min_samples_leaf=1,\n",
      "            min_samples_split=2, min_weight_fraction_leaf=0.0,\n",
      "            n_estimators=10, n_jobs=1, oob_score=False, random_state=42,\n",
      "            verbose=0, warm_start=False)\n",
      "\tAccuracy: 0.95429\tPrecision: 0.97887\tRecall: 0.69500\tF1: 0.81287\tF2: 0.73779\n",
      "\tTotal predictions: 1400\tTrue positives:  139\tFalse positives:    3\tFalse negatives:   61\tTrue negatives: 1197\n",
      "\n",
      "RandomForestClassifier(bootstrap=True, class_weight=None, criterion='gini',\n",
      "            max_depth=3, max_features='auto', max_leaf_nodes=None,\n",
      "            min_impurity_split=1e-07, min_samples_leaf=1,\n",
      "            min_samples_split=2, min_weight_fraction_leaf=0.0,\n",
      "            n_estimators=5, n_jobs=1, oob_score=False, random_state=42,\n",
      "            verbose=0, warm_start=False)\n",
      "\tAccuracy: 0.95643\tPrecision: 0.93711\tRecall: 0.74500\tF1: 0.83008\tF2: 0.77685\n",
      "\tTotal predictions: 1400\tTrue positives:  149\tFalse positives:   10\tFalse negatives:   51\tTrue negatives: 1190\n",
      "\n",
      "RandomForestClassifier(bootstrap=True, class_weight=None, criterion='gini',\n",
      "            max_depth=3, max_features='auto', max_leaf_nodes=None,\n",
      "            min_impurity_split=1e-07, min_samples_leaf=1,\n",
      "            min_samples_split=2, min_weight_fraction_leaf=0.0,\n",
      "            n_estimators=10, n_jobs=1, oob_score=False, random_state=42,\n",
      "            verbose=0, warm_start=False)\n",
      "\tAccuracy: 0.96071\tPrecision: 0.99320\tRecall: 0.73000\tF1: 0.84150\tF2: 0.77086\n",
      "\tTotal predictions: 1400\tTrue positives:  146\tFalse positives:    1\tFalse negatives:   54\tTrue negatives: 1199\n",
      "\n",
      "RandomForestClassifier(bootstrap=True, class_weight=None, criterion='gini',\n",
      "            max_depth=2, max_features='auto', max_leaf_nodes=None,\n",
      "            min_impurity_split=1e-07, min_samples_leaf=1,\n",
      "            min_samples_split=2, min_weight_fraction_leaf=0.0,\n",
      "            n_estimators=5, n_jobs=1, oob_score=False, random_state=42,\n",
      "            verbose=0, warm_start=False)\n",
      "\tAccuracy: 0.98643\tPrecision: 0.96891\tRecall: 0.93500\tF1: 0.95165\tF2: 0.94159\n",
      "\tTotal predictions: 1400\tTrue positives:  187\tFalse positives:    6\tFalse negatives:   13\tTrue negatives: 1194\n",
      "\n",
      "=======================new best 0.95165394402 10 68 2 5\n",
      "RandomForestClassifier(bootstrap=True, class_weight=None, criterion='gini',\n",
      "            max_depth=2, max_features='auto', max_leaf_nodes=None,\n",
      "            min_impurity_split=1e-07, min_samples_leaf=1,\n",
      "            min_samples_split=2, min_weight_fraction_leaf=0.0,\n",
      "            n_estimators=10, n_jobs=1, oob_score=False, random_state=42,\n",
      "            verbose=0, warm_start=False)\n",
      "\tAccuracy: 0.97000\tPrecision: 0.97024\tRecall: 0.81500\tF1: 0.88587\tF2: 0.84194\n",
      "\tTotal predictions: 1400\tTrue positives:  163\tFalse positives:    5\tFalse negatives:   37\tTrue negatives: 1195\n",
      "\n",
      "RandomForestClassifier(bootstrap=True, class_weight=None, criterion='gini',\n",
      "            max_depth=3, max_features='auto', max_leaf_nodes=None,\n",
      "            min_impurity_split=1e-07, min_samples_leaf=1,\n",
      "            min_samples_split=2, min_weight_fraction_leaf=0.0,\n",
      "            n_estimators=5, n_jobs=1, oob_score=False, random_state=42,\n",
      "            verbose=0, warm_start=False)\n",
      "\tAccuracy: 0.98357\tPrecision: 0.95385\tRecall: 0.93000\tF1: 0.94177\tF2: 0.93467\n",
      "\tTotal predictions: 1400\tTrue positives:  186\tFalse positives:    9\tFalse negatives:   14\tTrue negatives: 1191\n",
      "\n",
      "RandomForestClassifier(bootstrap=True, class_weight=None, criterion='gini',\n",
      "            max_depth=3, max_features='auto', max_leaf_nodes=None,\n",
      "            min_impurity_split=1e-07, min_samples_leaf=1,\n",
      "            min_samples_split=2, min_weight_fraction_leaf=0.0,\n",
      "            n_estimators=10, n_jobs=1, oob_score=False, random_state=42,\n",
      "            verbose=0, warm_start=False)\n",
      "\tAccuracy: 0.97071\tPrecision: 0.97041\tRecall: 0.82000\tF1: 0.88889\tF2: 0.84623\n",
      "\tTotal predictions: 1400\tTrue positives:  164\tFalse positives:    5\tFalse negatives:   36\tTrue negatives: 1195\n",
      "\n",
      "{'rf_n_estimators': 5, 'pca_n_components': 68, 'selector_percentile': 10, 'rf_max_depth': 2}\n"
     ]
    }
   ],
   "source": [
    "### define searhc area\n",
    "param_grid = dict(pca_n_components=[40, 50, 60, 68],\n",
    "                  selector_percentile=[10],\n",
    "                  rf_max_depth=[2, 3],\n",
    "                  rf_n_estimators=[5, 10])\n",
    "### Accept a dictionary of parameter and find the best combination\n",
    "def GridSearcher(features_train_tfidf, labels_train_enconded, param_grid, base_f1=0):\n",
    "    for n in param_grid['pca_n_components']:\n",
    "        for p in param_grid['selector_percentile']:\n",
    "            for depth in param_grid['rf_max_depth']:\n",
    "                for estimator in param_grid['rf_n_estimators']:\n",
    "                    current_f1 = feature_selection_pipeline(features_train_tfidf,labels_train_enconded,p, n, depth, estimator)\n",
    "                    if current_f1 > base_f1:\n",
    "                        base_f1 = current_f1\n",
    "                        print \"=======================new best\", base_f1 , p, n, depth, estimator\n",
    "                        best_param = dict(pca_n_components=n,\n",
    "                                           selector_percentile=p,\n",
    "                                           rf_max_depth=depth,\n",
    "                                           rf_n_estimators=estimator)\n",
    "    return best_param\n",
    "\n",
    "\n",
    "best_combination = GridSearcher(features_train_tfidf, labels_train_enconded, param_grid, base_f1=0)\n",
    "print best_combination"
   ]
  },
  {
   "cell_type": "code",
   "execution_count": 182,
   "metadata": {
    "collapsed": false,
    "scrolled": true
   },
   "outputs": [
    {
     "name": "stdout",
     "output_type": "stream",
     "text": [
      "RandomForestClassifier(bootstrap=True, class_weight=None, criterion='gini',\n",
      "            max_depth=2, max_features='auto', max_leaf_nodes=None,\n",
      "            min_impurity_split=1e-07, min_samples_leaf=1,\n",
      "            min_samples_split=2, min_weight_fraction_leaf=0.0,\n",
      "            n_estimators=5, n_jobs=1, oob_score=False, random_state=42,\n",
      "            verbose=0, warm_start=False)\n",
      "\tAccuracy: 0.98143\tPrecision: 1.00000\tRecall: 0.87000\tF1: 0.93048\tF2: 0.89322\n",
      "\tTotal predictions: 1400\tTrue positives:  174\tFalse positives:    0\tFalse negatives:   26\tTrue negatives: 1200\n",
      "\n",
      "RandomForestClassifier(bootstrap=True, class_weight=None, criterion='gini',\n",
      "            max_depth=2, max_features='auto', max_leaf_nodes=None,\n",
      "            min_impurity_split=1e-07, min_samples_leaf=1,\n",
      "            min_samples_split=2, min_weight_fraction_leaf=0.0,\n",
      "            n_estimators=5, n_jobs=1, oob_score=False, random_state=42,\n",
      "            verbose=0, warm_start=False)\n",
      "\tAccuracy: 0.98643\tPrecision: 0.96891\tRecall: 0.93500\tF1: 0.95165\tF2: 0.94159\n",
      "\tTotal predictions: 1400\tTrue positives:  187\tFalse positives:    6\tFalse negatives:   13\tTrue negatives: 1194\n",
      "\n",
      "RandomForestClassifier(bootstrap=True, class_weight=None, criterion='gini',\n",
      "            max_depth=2, max_features='auto', max_leaf_nodes=None,\n",
      "            min_impurity_split=1e-07, min_samples_leaf=1,\n",
      "            min_samples_split=2, min_weight_fraction_leaf=0.0,\n",
      "            n_estimators=5, n_jobs=1, oob_score=False, random_state=42,\n",
      "            verbose=0, warm_start=False)\n",
      "\tAccuracy: 0.97929\tPrecision: 1.00000\tRecall: 0.85500\tF1: 0.92183\tF2: 0.88054\n",
      "\tTotal predictions: 1400\tTrue positives:  171\tFalse positives:    0\tFalse negatives:   29\tTrue negatives: 1200\n",
      "\n",
      "RandomForestClassifier(bootstrap=True, class_weight=None, criterion='gini',\n",
      "            max_depth=2, max_features='auto', max_leaf_nodes=None,\n",
      "            min_impurity_split=1e-07, min_samples_leaf=1,\n",
      "            min_samples_split=2, min_weight_fraction_leaf=0.0,\n",
      "            n_estimators=5, n_jobs=1, oob_score=False, random_state=42,\n",
      "            verbose=0, warm_start=False)\n",
      "\tAccuracy: 0.92571\tPrecision: 0.94444\tRecall: 0.51000\tF1: 0.66234\tF2: 0.56167\n",
      "\tTotal predictions: 1400\tTrue positives:  102\tFalse positives:    6\tFalse negatives:   98\tTrue negatives: 1194\n",
      "\n",
      "RandomForestClassifier(bootstrap=True, class_weight=None, criterion='gini',\n",
      "            max_depth=2, max_features='auto', max_leaf_nodes=None,\n",
      "            min_impurity_split=1e-07, min_samples_leaf=1,\n",
      "            min_samples_split=2, min_weight_fraction_leaf=0.0,\n",
      "            n_estimators=5, n_jobs=1, oob_score=False, random_state=42,\n",
      "            verbose=0, warm_start=False)\n",
      "\tAccuracy: 0.91929\tPrecision: 0.94845\tRecall: 0.46000\tF1: 0.61953\tF2: 0.51282\n",
      "\tTotal predictions: 1400\tTrue positives:   92\tFalse positives:    5\tFalse negatives:  108\tTrue negatives: 1195\n",
      "\n",
      "RandomForestClassifier(bootstrap=True, class_weight=None, criterion='gini',\n",
      "            max_depth=2, max_features='auto', max_leaf_nodes=None,\n",
      "            min_impurity_split=1e-07, min_samples_leaf=1,\n",
      "            min_samples_split=2, min_weight_fraction_leaf=0.0,\n",
      "            n_estimators=5, n_jobs=1, oob_score=False, random_state=42,\n",
      "            verbose=0, warm_start=False)\n",
      "\tAccuracy: 0.90714\tPrecision: 0.91667\tRecall: 0.38500\tF1: 0.54225\tF2: 0.43552\n",
      "\tTotal predictions: 1400\tTrue positives:   77\tFalse positives:    7\tFalse negatives:  123\tTrue negatives: 1193\n",
      "\n",
      "RandomForestClassifier(bootstrap=True, class_weight=None, criterion='gini',\n",
      "            max_depth=2, max_features='auto', max_leaf_nodes=None,\n",
      "            min_impurity_split=1e-07, min_samples_leaf=1,\n",
      "            min_samples_split=2, min_weight_fraction_leaf=0.0,\n",
      "            n_estimators=5, n_jobs=1, oob_score=False, random_state=42,\n",
      "            verbose=0, warm_start=False)\n",
      "\tAccuracy: 0.88929\tPrecision: 0.79221\tRecall: 0.30500\tF1: 0.44043\tF2: 0.34778\n",
      "\tTotal predictions: 1400\tTrue positives:   61\tFalse positives:   16\tFalse negatives:  139\tTrue negatives: 1184\n",
      "\n",
      "RandomForestClassifier(bootstrap=True, class_weight=None, criterion='gini',\n",
      "            max_depth=2, max_features='auto', max_leaf_nodes=None,\n",
      "            min_impurity_split=1e-07, min_samples_leaf=1,\n",
      "            min_samples_split=2, min_weight_fraction_leaf=0.0,\n",
      "            n_estimators=5, n_jobs=1, oob_score=False, random_state=42,\n",
      "            verbose=0, warm_start=False)\n",
      "\tAccuracy: 0.86214\tPrecision: 0.55932\tRecall: 0.16500\tF1: 0.25483\tF2: 0.19208\n",
      "\tTotal predictions: 1400\tTrue positives:   33\tFalse positives:   26\tFalse negatives:  167\tTrue negatives: 1174\n",
      "\n"
     ]
    }
   ],
   "source": [
    "### Plot effect of change of percentile on f1 score:\n",
    "percentiles = [5, 10, 15, 20, 30, 40, 50, 80]\n",
    "f1_scores=[]\n",
    "for percentile in percentiles:\n",
    "    current_f1 = feature_selection_pipeline(features_train_tfidf,labels_train_enconded,percentile, 68, 2, 5)\n",
    "    f1_scores.append(current_f1)"
   ]
  },
  {
   "cell_type": "code",
   "execution_count": 183,
   "metadata": {
    "collapsed": false
   },
   "outputs": [
    {
     "data": {
      "image/png": "[encoded data removed]",
      "text/plain": [
       "<matplotlib.figure.Figure at 0x164b4eb8>"
      ]
     },
     "metadata": {},
     "output_type": "display_data"
    }
   ],
   "source": [
    "%matplotlib inline\n",
    "ax = plt.plot(percentiles, f1_scores, '-bo')\n",
    "plt.xlabel('Percentile of tfidf data preserved')\n",
    "plt.ylabel('f1 score')\n",
    "pickle.dump([percentiles, f1_scores] , file('f1plot.pickle', 'w'))\n",
    "plt.show()\n"
   ]
  },
  {
   "cell_type": "code",
   "execution_count": 186,
   "metadata": {
    "collapsed": true
   },
   "outputs": [],
   "source": [
    "### Perform feature selection on the tfidf dataset and \n",
    "### keep the most-important 10% of the data based on the pipeline.\n",
    "selector = SelectPercentile(f_classif, percentile=10)\n",
    "selector.fit(features_train_tfidf, labels_train_enconded)\n",
    "features_train_selected = selector.transform(features_train_tfidf)\n",
    "features_test_selected  = selector.transform(features_test_tfidf)"
   ]
  },
  {
   "cell_type": "code",
   "execution_count": 153,
   "metadata": {
    "collapsed": false
   },
   "outputs": [],
   "source": [
    "### Perform PCA on the training data and transform both datasets\n",
    "### 68 was chosen due to the result of the pipeline\n",
    "pca = PCA(n_components=68)\n",
    "pca.fit(features_train_selected.toarray())\n",
    "features_train_selected = pca.transform(features_train_selected.toarray())\n",
    "features_test_selected = pca.transform(features_test_selected.toarray())"
   ]
  },
  {
   "cell_type": "code",
   "execution_count": 198,
   "metadata": {
    "collapsed": false
   },
   "outputs": [
    {
     "data": {
      "image/png": "[encoded data removed]",
      "text/plain": [
       "<matplotlib.figure.Figure at 0x1bcf6e80>"
      ]
     },
     "metadata": {},
     "output_type": "display_data"
    },
    {
     "name": "stdout",
     "output_type": "stream",
     "text": [
      "   Explained_variance\n",
      "0            0.015181\n",
      "1            0.014482\n",
      "2            0.014199\n",
      "3            0.013586\n",
      "4            0.013410\n",
      "5            0.012872\n",
      "6            0.012675\n",
      "7            0.012514\n",
      "8            0.009947\n",
      "9            0.008514\n"
     ]
    }
   ],
   "source": [
    "pickle.dump(pca , file('pca.pickle', 'w'))\n",
    "plt.plot(pca.explained_variance_)\n",
    "plt.xlabel('Principal components')\n",
    "plt.ylabel('Explained variance')\n",
    "plt.show()\n",
    "e_v = pd.DataFrame(pca.explained_variance_, columns=['Explained_variance'])\n",
    "pickle.dump(e_v , file('pca.pickle', 'w'))"
   ]
  },
  {
   "cell_type": "code",
   "execution_count": 154,
   "metadata": {
    "collapsed": false
   },
   "outputs": [],
   "source": [
    "### Save the dataset(dict) as panda dataframes\n",
    "data_base_train_tfidf = pd.DataFrame(features_train_selected)\n",
    "data_base_test_tfidf = pd.DataFrame(features_test_selected)\n",
    "data_base_train_tfidf['email_address'] = labels_train\n",
    "data_base_test_tfidf['email_address'] = labels_test"
   ]
  },
  {
   "cell_type": "markdown",
   "metadata": {},
   "source": [
    "## Combining email and financial datasets"
   ]
  },
  {
   "cell_type": "code",
   "execution_count": 155,
   "metadata": {
    "collapsed": true
   },
   "outputs": [],
   "source": [
    "### Split the financial data into training and test based on email addresses \n",
    "### available in the email data training and test\n",
    "database_numerical_train = database_numerical[database_numerical['email_address'].isin(data_base_train_tfidf['email_address'])]\n",
    "database_numerical_test = database_numerical[database_numerical['email_address'].isin(data_base_test_tfidf['email_address'])]"
   ]
  },
  {
   "cell_type": "code",
   "execution_count": 156,
   "metadata": {
    "collapsed": true
   },
   "outputs": [],
   "source": [
    "### Set email address as unique identifier (index) for training and test \n",
    "### datasets of both email and financial dataframes.\n",
    "data_base_train_tfidf = data_base_train_tfidf.set_index(['email_address'])\n",
    "data_base_test_tfidf = data_base_test_tfidf.set_index(['email_address'])\n",
    "database_numerical_train = database_numerical_train.set_index(['email_address'])\n",
    "database_numerical_test = database_numerical_test.set_index(['email_address'])"
   ]
  },
  {
   "cell_type": "code",
   "execution_count": 157,
   "metadata": {
    "collapsed": false
   },
   "outputs": [],
   "source": [
    "## Join the training dataset of email (tfidf) and financial dataframes.\n",
    "## Join the test dataset of email (tfidf) and financial dataframes.\n",
    "database_train = database_numerical_train.join(data_base_train_tfidf)\n",
    "database_test = database_numerical_test.join(data_base_test_tfidf)\n",
    "\n",
    "### Construct a master dataset to write out the data from.\n",
    "whole_database = pd.concat([database_train,database_test])"
   ]
  },
  {
   "cell_type": "code",
   "execution_count": 158,
   "metadata": {
    "collapsed": false
   },
   "outputs": [],
   "source": [
    "### Make the final feature list based on the columns in the master dataframe\n",
    "### and put poi as the first feature.\n",
    "features_list = list(whole_database.columns)\n",
    "features_list.remove('poi')\n",
    "features_list.insert(0,'poi')"
   ]
  },
  {
   "cell_type": "code",
   "execution_count": 159,
   "metadata": {
    "collapsed": false
   },
   "outputs": [],
   "source": [
    "### Construct a dictionary dataset from the master dataframe.\n",
    "keys = whole_database.index.values\n",
    "my_dataset={}\n",
    "for key in keys:\n",
    "    my_dataset[key]={}\n",
    "    for feature in features_list:\n",
    "        my_dataset[key][feature]=whole_database.loc[key, feature]\n",
    "        \n",
    "### Moving to our original training and test dataframes for the rest\n",
    "### of the analysis.\n",
    "keys_train = database_train.index.values\n",
    "my_train_dataset={}\n",
    "for key in keys_train:\n",
    "    my_train_dataset[key]={}\n",
    "    for feature in features_list:\n",
    "        my_train_dataset[key][feature]=database_train.loc[key, feature]"
   ]
  },
  {
   "cell_type": "code",
   "execution_count": 160,
   "metadata": {
    "collapsed": true
   },
   "outputs": [],
   "source": [
    "### preparing labels and features for sklearn\n",
    "train_labels = database_train['poi'].values\n",
    "test_labels = database_test['poi'].values\n",
    "database_train = database_train.drop('poi', axis=1).as_matrix()\n",
    "database_test = database_test.drop('poi', axis=1).as_matrix()"
   ]
  },
  {
   "cell_type": "code",
   "execution_count": 161,
   "metadata": {
    "collapsed": true
   },
   "outputs": [],
   "source": [
    "### Scaling the features.\n",
    "scaler = preprocessing.MinMaxScaler()\n",
    "scaler.fit(database_train)\n",
    "database_train = scaler.transform(database_train)\n",
    "database_test = scaler.transform(database_test)"
   ]
  },
  {
   "cell_type": "markdown",
   "metadata": {
    "collapsed": true
   },
   "source": [
    "###  Machine learning"
   ]
  },
  {
   "cell_type": "code",
   "execution_count": 162,
   "metadata": {
    "collapsed": false,
    "scrolled": true
   },
   "outputs": [],
   "source": [
    "### Script to test the classifiers\n",
    "import pickle\n",
    "import sys\n",
    "from sklearn.cross_validation import StratifiedShuffleSplit\n",
    "sys.path.append(\"../tools/\")\n",
    "from feature_format import featureFormat, targetFeatureSplit\n",
    "\n",
    "PERF_FORMAT_STRING = \"\\\n",
    "\\tAccuracy: {:>0.{display_precision}f}\\tPrecision: {:>0.{display_precision}f}\\t\\\n",
    "Recall: {:>0.{display_precision}f}\\tF1: {:>0.{display_precision}f}\\tF2: {:>0.{display_precision}f}\"\n",
    "RESULTS_FORMAT_STRING = \"\\tTotal predictions: {:4d}\\tTrue positives: {:4d}\\tFalse positives: {:4d}\\\n",
    "\\tFalse negatives: {:4d}\\tTrue negatives: {:4d}\"\n",
    "\n",
    "def test_classifier(clf, dataset, feature_list, folds = 1000):\n",
    "    data = featureFormat(dataset, feature_list, sort_keys = True)\n",
    "    labels, features = targetFeatureSplit(data)\n",
    "    cv = StratifiedShuffleSplit(labels, folds, random_state = 42)\n",
    "    true_negatives = 0\n",
    "    false_negatives = 0\n",
    "    true_positives = 0\n",
    "    false_positives = 0\n",
    "    for train_idx, test_idx in cv: \n",
    "        features_train = []\n",
    "        features_test  = []\n",
    "        labels_train   = []\n",
    "        labels_test    = []\n",
    "        for ii in train_idx:\n",
    "            features_train.append( features[ii] )\n",
    "            labels_train.append( labels[ii] )\n",
    "        for jj in test_idx:\n",
    "            features_test.append( features[jj] )\n",
    "            labels_test.append( labels[jj] )\n",
    "        \n",
    "        ### fit the classifier using training set, and test on test set\n",
    "        clf.fit(features_train, labels_train)\n",
    "        predictions = clf.predict(features_test)\n",
    "        for prediction, truth in zip(predictions, labels_test):\n",
    "            if prediction == 0 and truth == 0:\n",
    "                true_negatives += 1\n",
    "            elif prediction == 0 and truth == 1:\n",
    "                false_negatives += 1\n",
    "            elif prediction == 1 and truth == 0:\n",
    "                false_positives += 1\n",
    "            elif prediction == 1 and truth == 1:\n",
    "                true_positives += 1\n",
    "            else:\n",
    "                print \"Warning: Found a predicted label not == 0 or 1.\"\n",
    "                print \"All predictions should take value 0 or 1.\"\n",
    "                print \"Evaluating performance for processed predictions:\"\n",
    "                break\n",
    "    try:\n",
    "        total_predictions = true_negatives + false_negatives + false_positives + true_positives\n",
    "        accuracy = 1.0*(true_positives + true_negatives)/total_predictions\n",
    "        precision = 1.0*true_positives/(true_positives+false_positives)\n",
    "        recall = 1.0*true_positives/(true_positives+false_negatives)\n",
    "        f1 = 2.0 * true_positives/(2*true_positives + false_positives+false_negatives)\n",
    "        f2 = (1+2.0*2.0) * precision*recall/(4*precision + recall)\n",
    "        print clf\n",
    "        print PERF_FORMAT_STRING.format(accuracy, precision, recall, f1, f2, display_precision = 5)\n",
    "        print RESULTS_FORMAT_STRING.format(total_predictions, true_positives, false_positives, false_negatives, true_negatives)\n",
    "        print \"\"\n",
    "    except:\n",
    "        print \"Got a divide by zero when trying out:\", clf\n",
    "        print \"Precision or recall may be undefined due to a lack of true positive predicitons.\"\n",
    "\n",
    "CLF_PICKLE_FILENAME = \"my_classifier.pkl\"\n",
    "DATASET_PICKLE_FILENAME = \"my_dataset.pkl\"\n",
    "FEATURE_LIST_FILENAME = \"my_feature_list.pkl\"\n",
    "\n",
    "def dump_classifier_and_data(clf, dataset, feature_list):\n",
    "    with open(CLF_PICKLE_FILENAME, \"w\") as clf_outfile:\n",
    "        pickle.dump(clf, clf_outfile)\n",
    "    with open(DATASET_PICKLE_FILENAME, \"w\") as dataset_outfile:\n",
    "        pickle.dump(dataset, dataset_outfile)\n",
    "    with open(FEATURE_LIST_FILENAME, \"w\") as featurelist_outfile:\n",
    "        pickle.dump(feature_list, featurelist_outfile)\n",
    "\n",
    "def load_classifier_and_data():\n",
    "    with open(CLF_PICKLE_FILENAME, \"r\") as clf_infile:\n",
    "        clf = pickle.load(clf_infile)\n",
    "    with open(DATASET_PICKLE_FILENAME, \"r\") as dataset_infile:\n",
    "        dataset = pickle.load(dataset_infile)\n",
    "    with open(FEATURE_LIST_FILENAME, \"r\") as featurelist_infile:\n",
    "        feature_list = pickle.load(featurelist_infile)\n",
    "    return clf, dataset, feature_list\n",
    "\n",
    "#def main():\n",
    "#    ### load up student's classifier, dataset, and feature_list\n",
    "#    clf, dataset, feature_list = load_classifier_and_data()\n",
    "#    ### Run testing script\n",
    "#    test_classifier(clf, dataset, feature_list)\n",
    "\n",
    "#if __name__ == '__main__':\n",
    "#    main()\n"
   ]
  },
  {
   "cell_type": "code",
   "execution_count": 163,
   "metadata": {
    "collapsed": false
   },
   "outputs": [
    {
     "name": "stdout",
     "output_type": "stream",
     "text": [
      "Got a divide by zero when trying out: GaussianNB(priors=None)\n",
      "Precision or recall may be undefined due to a lack of true positive predicitons.\n",
      "Test accuracy:  0.222222222222\n",
      "Confusion matrix: \n",
      "[[ 0 14]\n",
      " [ 0  4]]\n",
      "Recall score is:  1.0\n",
      "Precision score is:  0.222222222222\n",
      "F1 score is:  0.363636363636\n"
     ]
    }
   ],
   "source": [
    "### Naive bayes\n",
    "clf_nb = GaussianNB()\n",
    "test_classifier(clf_nb, my_train_dataset, feature_list)\n",
    "clf_nb.fit(database_train, train_labels)\n",
    "#scoretr_nb = clf_nb.score(database_train, train_labels)\n",
    "#print \"Training accuracy: \", scoretr_nb\n",
    "scorete_nb = clf_nb.score(database_test, test_labels)\n",
    "print \"Test accuracy: \", scorete_nb\n",
    "pred_nb = clf_nb.predict(database_test)\n",
    "print \"Confusion matrix: \\n\", confusion_matrix(test_labels, pred_nb)\n",
    "print \"Recall score is: \", recall_score(test_labels, pred_nb)\n",
    "print \"Precision score is: \",precision_score(test_labels, pred_nb)\n",
    "print \"F1 score is: \",f1_score(test_labels, pred_nb)"
   ]
  },
  {
   "cell_type": "code",
   "execution_count": 164,
   "metadata": {
    "collapsed": false
   },
   "outputs": [
    {
     "name": "stdout",
     "output_type": "stream",
     "text": [
      "Training accuracy:  1.0\n",
      "Test accuracy:  0.722222222222\n",
      "Confusion matrix: \n",
      "[[10  4]\n",
      " [ 1  3]]\n",
      "Recall score is:  0.75\n",
      "Precision score is:  0.428571428571\n",
      "F1 score is:  0.545454545455\n",
      "SVC(C=1e-06, cache_size=200, class_weight=None, coef0=0.0,\n",
      "  decision_function_shape=None, degree=5, gamma=1, kernel='poly',\n",
      "  max_iter=-1, probability=False, random_state=7, shrinking=True,\n",
      "  tol=0.001, verbose=False)\n"
     ]
    }
   ],
   "source": [
    "### Grid search support vectore machines\n",
    "parameters ={'kernel':('linear', 'rbf', 'sigmoid', 'poly'),\n",
    "             'C':[1e-22, 1e-8, 1e-6, 1e-4, 1e-2, 0.1, 1, 2],\n",
    "             'degree':[2, 3, 4, 5],\n",
    "             'gamma':[0.0001, 0.01, 0.05, 0.1, 0.2, 1, 2]}\n",
    "svm = SVC(random_state=7)\n",
    "clf_svm = GridSearchCV(svm, parameters)\n",
    "clf_svm.fit(database_train, train_labels)\n",
    "scoretr_svm = clf_svm.score(database_train, train_labels)\n",
    "print \"Training accuracy: \", scoretr_svm\n",
    "scorete_svm = clf_svm.score(database_test, test_labels)\n",
    "print \"Test accuracy: \", scorete_svm\n",
    "pred_svm = clf_svm.predict(database_test)\n",
    "print \"Confusion matrix: \\n\", confusion_matrix(test_labels, pred_svm)\n",
    "print \"Recall score is: \", recall_score(test_labels, pred_svm)\n",
    "print \"Precision score is: \",precision_score(test_labels, pred_svm)\n",
    "print \"F1 score is: \",f1_score(test_labels, pred_svm)\n",
    "print clf_svm.best_estimator_"
   ]
  },
  {
   "cell_type": "code",
   "execution_count": 165,
   "metadata": {
    "collapsed": false
   },
   "outputs": [
    {
     "name": "stdout",
     "output_type": "stream",
     "text": [
      "SVC(C=1e-06, cache_size=200, class_weight=None, coef0=0.0,\n",
      "  decision_function_shape=None, degree=5, gamma=1, kernel='poly',\n",
      "  max_iter=-1, probability=False, random_state=7, shrinking=True,\n",
      "  tol=0.001, verbose=False)\n",
      "\tAccuracy: 0.14286\tPrecision: 0.14286\tRecall: 1.00000\tF1: 0.25000\tF2: 0.45455\n",
      "\tTotal predictions: 7000\tTrue positives: 1000\tFalse positives: 6000\tFalse negatives:    0\tTrue negatives:    0\n",
      "\n",
      "Test accuracy:  0.722222222222\n",
      "Confusion matrix: \n",
      "[[10  4]\n",
      " [ 1  3]]\n",
      "Recall score is:  0.75\n",
      "Precision score is:  0.428571428571\n",
      "F1 score is:  0.545454545455\n"
     ]
    }
   ],
   "source": [
    "### Support vectore machines\n",
    "clf_svm = SVC(C=1e-06, cache_size=200, class_weight=None, coef0=0.0,\n",
    "  decision_function_shape=None, degree=5, gamma=1, kernel='poly',\n",
    "  max_iter=-1, probability=False, random_state=7, shrinking=True,\n",
    "  tol=0.001, verbose=False)\n",
    "\n",
    "test_classifier(clf_svm, my_train_dataset, feature_list)\n",
    "clf_svm.fit(database_train, train_labels)\n",
    "#scoretr_svm = clf_svm.score(database_train, train_labels)\n",
    "#print \"Training accuracy: \", scoretr_svm\n",
    "scorete_svm = clf_svm.score(database_test, test_labels)\n",
    "print \"Test accuracy: \", scorete_svm\n",
    "pred_svm = clf_svm.predict(database_test)\n",
    "print \"Confusion matrix: \\n\", confusion_matrix(test_labels, pred_svm)\n",
    "print \"Recall score is: \", recall_score(test_labels, pred_svm)\n",
    "print \"Precision score is: \",precision_score(test_labels, pred_svm)\n",
    "print \"F1 score is: \",f1_score(test_labels, pred_svm)"
   ]
  },
  {
   "cell_type": "code",
   "execution_count": 166,
   "metadata": {
    "collapsed": false
   },
   "outputs": [
    {
     "name": "stdout",
     "output_type": "stream",
     "text": [
      "Training accuracy:  0.985294117647\n",
      "Test accuracy:  0.833333333333\n",
      "Confusion matrix: \n",
      "[[13  1]\n",
      " [ 2  2]]\n",
      "Recall score is:  0.5\n",
      "Precision score is:  0.666666666667\n",
      "F1 score is:  0.571428571429\n",
      "SGDClassifier(alpha=0.01, average=False, class_weight=None, epsilon=0.1,\n",
      "       eta0=0.0, fit_intercept=True, l1_ratio=0.15,\n",
      "       learning_rate='optimal', loss='hinge', n_iter=5, n_jobs=1,\n",
      "       penalty='l1', power_t=0.5, random_state=1, shuffle=True, verbose=0,\n",
      "       warm_start=False)\n"
     ]
    }
   ],
   "source": [
    "### Linear classifiers \n",
    "parameters ={'loss':('log', 'hinge'), 'penalty':('l2', 'l1', 'elasticnet'),\\\n",
    "             'alpha':[1e-8, 1e-4, 1e-2, 1e-1, 1, 10, 100, 100000]}\n",
    "sgd = SGDClassifier(random_state=1)\n",
    "clf_sgd = GridSearchCV(sgd, parameters)\n",
    "clf_sgd.fit(database_train, train_labels)\n",
    "scoretr_sgd = clf_sgd.score(database_train, train_labels)\n",
    "print \"Training accuracy: \",scoretr_sgd\n",
    "scorete_sgd = clf_sgd.score(database_test, test_labels)\n",
    "print \"Test accuracy: \", scorete_sgd\n",
    "pred_sgd = clf_sgd.predict(database_test)\n",
    "print \"Confusion matrix: \\n\", confusion_matrix(test_labels, pred_sgd)\n",
    "print \"Recall score is: \", recall_score(test_labels, pred_sgd)\n",
    "print \"Precision score is: \",precision_score(test_labels, pred_sgd)\n",
    "print \"F1 score is: \",f1_score(test_labels, pred_sgd)\n",
    "print clf_sgd.best_estimator_"
   ]
  },
  {
   "cell_type": "code",
   "execution_count": 167,
   "metadata": {
    "collapsed": false
   },
   "outputs": [
    {
     "name": "stdout",
     "output_type": "stream",
     "text": [
      "SGDClassifier(alpha=0.01, average=False, class_weight=None, epsilon=0.1,\n",
      "       eta0=0.0, fit_intercept=True, l1_ratio=0.15,\n",
      "       learning_rate='optimal', loss='hinge', n_iter=5, n_jobs=1,\n",
      "       penalty='l1', power_t=0.5, random_state=1, shuffle=True, verbose=0,\n",
      "       warm_start=False)\n",
      "\tAccuracy: 0.21957\tPrecision: 0.14267\tRecall: 0.89100\tF1: 0.24596\tF2: 0.43485\n",
      "\tTotal predictions: 7000\tTrue positives:  891\tFalse positives: 5354\tFalse negatives:  109\tTrue negatives:  646\n",
      "\n",
      "Test accuracy:  0.833333333333\n",
      "Confusion matrix: \n",
      "[[13  1]\n",
      " [ 2  2]]\n",
      "Recall score is:  0.5\n",
      "Precision score is:  0.666666666667\n",
      "F1 score is:  0.571428571429\n"
     ]
    }
   ],
   "source": [
    "### SGD\n",
    "clf_sgd = SGDClassifier(alpha=0.01, average=False, class_weight=None, epsilon=0.1,\n",
    "       eta0=0.0, fit_intercept=True, l1_ratio=0.15,\n",
    "       learning_rate='optimal', loss='hinge', n_iter=5, n_jobs=1,\n",
    "       penalty='l1', power_t=0.5, random_state=1, shuffle=True, verbose=0,\n",
    "       warm_start=False)\n",
    "test_classifier(clf_sgd, my_train_dataset, feature_list)\n",
    "clf_sgd.fit(database_train, train_labels)\n",
    "#scoretr_sgd = clf_sgd.score(database_train, train_labels)\n",
    "#print \"Training accuracy: \",scoretr_sgd\n",
    "scorete_sgd = clf_sgd.score(database_test, test_labels)\n",
    "print \"Test accuracy: \", scorete_sgd\n",
    "pred_sgd = clf_sgd.predict(database_test)\n",
    "print \"Confusion matrix: \\n\", confusion_matrix(test_labels, pred_sgd)\n",
    "print \"Recall score is: \", recall_score(test_labels, pred_sgd)\n",
    "print \"Precision score is: \",precision_score(test_labels, pred_sgd)\n",
    "print \"F1 score is: \",f1_score(test_labels, pred_sgd)"
   ]
  },
  {
   "cell_type": "code",
   "execution_count": 168,
   "metadata": {
    "collapsed": false
   },
   "outputs": [
    {
     "name": "stdout",
     "output_type": "stream",
     "text": [
      "Training accuracy:  1.0\n",
      "Test accuracy:  0.777777777778\n",
      "Confusion matrix: \n",
      "[[13  1]\n",
      " [ 3  1]]\n",
      "Recall score is:  0.25\n",
      "Precision score is:  0.5\n",
      "F1 score is:  0.333333333333\n",
      "LogisticRegression(C=4, class_weight=None, dual=False, fit_intercept=True,\n",
      "          intercept_scaling=1, max_iter=100, multi_class='ovr', n_jobs=1,\n",
      "          penalty='l2', random_state=None, solver='liblinear', tol=0.0001,\n",
      "          verbose=0, warm_start=False)\n"
     ]
    }
   ],
   "source": [
    "### Linear regression\n",
    "parameters ={'C':[1e-22, 1e-8, 1e-6, 1e-4, 1e-2, 0.1, 1, 2, 4, 6]}\n",
    "lr = LogisticRegression()\n",
    "clf_lr = GridSearchCV(lr, parameters)\n",
    "clf_lr.fit(database_train, train_labels)\n",
    "scoretr_lr = clf_lr.score(database_train, train_labels)\n",
    "print \"Training accuracy: \",scoretr_lr\n",
    "scorete_lr = clf_lr.score(database_test, test_labels)\n",
    "print \"Test accuracy: \", scorete_lr\n",
    "pred_lr = clf_lr.predict(database_test)\n",
    "print \"Confusion matrix: \\n\", confusion_matrix(test_labels, pred_lr)\n",
    "print \"Recall score is: \", recall_score(test_labels, pred_lr)\n",
    "print \"Precision score is: \",precision_score(test_labels, pred_lr)\n",
    "print \"F1 score is: \",f1_score(test_labels, pred_lr)\n",
    "print clf_lr.best_estimator_"
   ]
  },
  {
   "cell_type": "code",
   "execution_count": 169,
   "metadata": {
    "collapsed": false
   },
   "outputs": [
    {
     "name": "stdout",
     "output_type": "stream",
     "text": [
      "Got a divide by zero when trying out: LogisticRegression(C=4, class_weight=None, dual=False, fit_intercept=True,\n",
      "          intercept_scaling=1, max_iter=100, multi_class='ovr', n_jobs=1,\n",
      "          penalty='l2', random_state=None, solver='liblinear', tol=0.0001,\n",
      "          verbose=0, warm_start=False)\n",
      "Precision or recall may be undefined due to a lack of true positive predicitons.\n",
      "Test accuracy:  0.777777777778\n",
      "Confusion matrix: \n",
      "[[13  1]\n",
      " [ 3  1]]\n",
      "Recall score is:  0.25\n",
      "Precision score is:  0.5\n",
      "F1 score is:  0.333333333333\n"
     ]
    }
   ],
   "source": [
    "### Linear regression\n",
    "clf_lr = LogisticRegression(C=4, class_weight=None, dual=False, fit_intercept=True,\n",
    "          intercept_scaling=1, max_iter=100, multi_class='ovr', n_jobs=1,\n",
    "          penalty='l2', random_state=None, solver='liblinear', tol=0.0001,\n",
    "          verbose=0, warm_start=False)\n",
    "test_classifier(clf_lr, my_train_dataset, feature_list)\n",
    "clf_lr.fit(database_train, train_labels)\n",
    "#scoretr_lr = clf_lr.score(database_train, train_labels)\n",
    "#print \"Training accuracy: \",scoretr_lr\n",
    "scorete_lr = clf_lr.score(database_test, test_labels)\n",
    "print \"Test accuracy: \", scorete_lr\n",
    "pred_lr = clf_lr.predict(database_test)\n",
    "print \"Confusion matrix: \\n\", confusion_matrix(test_labels, pred_lr)\n",
    "print \"Recall score is: \", recall_score(test_labels, pred_lr)\n",
    "print \"Precision score is: \",precision_score(test_labels, pred_lr)\n",
    "print \"F1 score is: \",f1_score(test_labels, pred_lr)"
   ]
  },
  {
   "cell_type": "code",
   "execution_count": 170,
   "metadata": {
    "collapsed": false
   },
   "outputs": [
    {
     "name": "stdout",
     "output_type": "stream",
     "text": [
      "Test accuracy:  0.722222222222\n",
      "Confusion matrix: \n",
      "[[10  4]\n",
      " [ 1  3]]\n",
      "Recall score is:  0.75\n",
      "Precision score is:  0.428571428571\n",
      "F1 score is:  0.545454545455\n",
      "AdaBoostClassifier(algorithm='SAMME.R', base_estimator=None,\n",
      "          learning_rate=0.01, n_estimators=20, random_state=42)\n"
     ]
    }
   ],
   "source": [
    "### Grid search to ada boost\n",
    "parameters ={'learning_rate':[0.001, 0.01, 0.1, 0.2, 0.5, 1 , 2], 'n_estimators':[5, 10, 20, 50]}\n",
    "ada = AdaBoostClassifier(random_state=42)\n",
    "clf_ada = GridSearchCV(ada, parameters)\n",
    "clf_ada.fit(database_train, train_labels)\n",
    "#scoretr_rf = clf_ada.score(database_train, train_labels)\n",
    "#print \"Training accuracy: \",scoretr_ada\n",
    "scorete_ada = clf_ada.score(database_test, test_labels)\n",
    "print \"Test accuracy: \", scorete_ada\n",
    "pred_ada = clf_ada.predict(database_test)\n",
    "print \"Confusion matrix: \\n\", confusion_matrix(test_labels, pred_ada)\n",
    "print \"Recall score is: \", recall_score(test_labels, pred_ada)\n",
    "print \"Precision score is: \",precision_score(test_labels, pred_ada)\n",
    "print \"F1 score is: \",f1_score(test_labels, pred_ada)\n",
    "print clf_ada.best_estimator_"
   ]
  },
  {
   "cell_type": "code",
   "execution_count": 171,
   "metadata": {
    "collapsed": false
   },
   "outputs": [
    {
     "name": "stdout",
     "output_type": "stream",
     "text": [
      "AdaBoostClassifier(algorithm='SAMME.R', base_estimator=None,\n",
      "          learning_rate=0.01, n_estimators=20, random_state=42)\n",
      "\tAccuracy: 0.95757\tPrecision: 0.82456\tRecall: 0.89300\tF1: 0.85742\tF2: 0.87842\n",
      "\tTotal predictions: 7000\tTrue positives:  893\tFalse positives:  190\tFalse negatives:  107\tTrue negatives: 5810\n",
      "\n",
      "Test accuracy:  0.722222222222\n",
      "Confusion matrix: \n",
      "[[10  4]\n",
      " [ 1  3]]\n",
      "Recall score is:  0.75\n",
      "Precision score is:  0.428571428571\n",
      "F1 score is:  0.545454545455\n"
     ]
    }
   ],
   "source": [
    "### Ada boost\n",
    "clf_ada = AdaBoostClassifier(algorithm='SAMME.R', base_estimator=None,\n",
    "          learning_rate=0.01, n_estimators=20, random_state=42)\n",
    "test_classifier(clf_ada, my_train_dataset, feature_list)\n",
    "clf_ada.fit(database_train, train_labels)\n",
    "#scoretr_ada = clf_ada.score(database_train, train_labels)\n",
    "#print \"Training accuracy: \",scoretr_ada\n",
    "scorete_ada = clf_ada.score(database_test, test_labels)\n",
    "print \"Test accuracy: \", scorete_ada\n",
    "pred_ada = clf_ada.predict(database_test)\n",
    "print \"Confusion matrix: \\n\", confusion_matrix(test_labels, pred_ada)\n",
    "print \"Recall score is: \", recall_score(test_labels, pred_ada)\n",
    "print \"Precision score is: \",precision_score(test_labels, pred_ada)\n",
    "print \"F1 score is: \",f1_score(test_labels, pred_ada)"
   ]
  },
  {
   "cell_type": "code",
   "execution_count": 172,
   "metadata": {
    "collapsed": false
   },
   "outputs": [
    {
     "data": {
      "text/plain": [
       "array([ 0.  ,  0.  ,  0.  ,  0.  ,  0.  ,  0.  ,  0.  ,  0.  ,  0.  ,\n",
       "        0.  ,  0.  ,  0.  ,  0.  ,  0.  ,  0.  ,  0.  ,  0.  ,  0.  ,\n",
       "        0.  ,  0.  ,  0.  ,  0.  ,  0.  ,  0.  ,  0.  ,  0.  ,  0.  ,\n",
       "        0.  ,  0.  ,  0.  ,  0.  ,  0.  ,  0.  ,  0.  ,  0.  ,  0.  ,\n",
       "        0.  ,  0.  ,  0.  ,  0.  ,  0.  ,  0.  ,  0.  ,  0.  ,  0.  ,\n",
       "        0.  ,  0.  ,  0.  ,  0.  ,  0.  ,  0.  ,  0.  ,  0.  ,  0.  ,\n",
       "        0.1 ,  0.  ,  0.25,  0.  ,  0.4 ,  0.  ,  0.  ,  0.  ,  0.  ,\n",
       "        0.  ,  0.  ,  0.  ,  0.  ,  0.  ,  0.  ,  0.  ,  0.  ,  0.  ,\n",
       "        0.  ,  0.  ,  0.  ,  0.  ,  0.  ,  0.  ,  0.  ,  0.  ,  0.  ,\n",
       "        0.  ,  0.  ,  0.  ,  0.  ,  0.  ,  0.  ,  0.  ,  0.  ,  0.  ,\n",
       "        0.  ,  0.  ,  0.  ,  0.  ,  0.  ,  0.  ,  0.  ,  0.  ,  0.  ,\n",
       "        0.  ,  0.  ,  0.  ,  0.  ,  0.  ,  0.  ,  0.  ,  0.  ,  0.  ,\n",
       "        0.  ,  0.  ,  0.  ,  0.  ,  0.  ,  0.  ,  0.  ,  0.  ,  0.25])"
      ]
     },
     "execution_count": 172,
     "metadata": {},
     "output_type": "execute_result"
    }
   ],
   "source": [
    "clf_ada.feature_importances_"
   ]
  },
  {
   "cell_type": "code",
   "execution_count": 173,
   "metadata": {
    "collapsed": false
   },
   "outputs": [
    {
     "name": "stdout",
     "output_type": "stream",
     "text": [
      "Training accuracy:  1.0\n",
      "Test accuracy:  0.777777777778\n",
      "Confusion matrix: \n",
      "[[14  0]\n",
      " [ 4  0]]\n",
      "Recall score is:  0.0\n",
      "Precision score is:  0.0\n",
      "F1 score is:  0.0\n",
      "DecisionTreeClassifier(class_weight=None, criterion='gini', max_depth=None,\n",
      "            max_features=None, max_leaf_nodes=None,\n",
      "            min_impurity_split=1e-07, min_samples_leaf=1,\n",
      "            min_samples_split=2, min_weight_fraction_leaf=0.0,\n",
      "            presort=False, random_state=1, splitter='best')\n"
     ]
    }
   ],
   "source": [
    "### Decision tree\n",
    "parameters ={'min_samples_split':[2, 3, 4, 6]}\n",
    "dt = DecisionTreeClassifier(random_state=1)\n",
    "clf_dt = GridSearchCV(dt, parameters)\n",
    "clf_dt.fit(database_train, train_labels)\n",
    "scoretr_dt = clf_dt.score(database_train, train_labels)\n",
    "print \"Training accuracy: \",scoretr_dt\n",
    "scorete_dt = clf_dt.score(database_test, test_labels)\n",
    "print \"Test accuracy: \",scorete_dt\n",
    "pred_dt = clf_dt.predict(database_test)\n",
    "print \"Confusion matrix: \\n\",confusion_matrix(test_labels, pred_dt)\n",
    "print \"Recall score is: \", recall_score(test_labels, pred_dt)\n",
    "print \"Precision score is: \",precision_score(test_labels, pred_dt)\n",
    "print \"F1 score is: \",f1_score(test_labels, pred_dt)\n",
    "print clf_dt.best_estimator_"
   ]
  },
  {
   "cell_type": "code",
   "execution_count": 174,
   "metadata": {
    "collapsed": false
   },
   "outputs": [
    {
     "name": "stdout",
     "output_type": "stream",
     "text": [
      "DecisionTreeClassifier(class_weight=None, criterion='gini', max_depth=None,\n",
      "            max_features=None, max_leaf_nodes=None,\n",
      "            min_impurity_split=1e-07, min_samples_leaf=1,\n",
      "            min_samples_split=2, min_weight_fraction_leaf=0.0,\n",
      "            presort=False, random_state=1, splitter='best')\n",
      "\tAccuracy: 0.94371\tPrecision: 0.80422\tRecall: 0.80100\tF1: 0.80261\tF2: 0.80164\n",
      "\tTotal predictions: 7000\tTrue positives:  801\tFalse positives:  195\tFalse negatives:  199\tTrue negatives: 5805\n",
      "\n",
      "Test accuracy:  0.777777777778\n",
      "Confusion matrix: \n",
      "[[14  0]\n",
      " [ 4  0]]\n",
      "Recall score is:  0.0\n",
      "Precision score is:  0.0\n",
      "F1 score is:  0.0\n"
     ]
    }
   ],
   "source": [
    "### Decision tree\n",
    "clf_dt = DecisionTreeClassifier(class_weight=None, criterion='gini', max_depth=None,\n",
    "            max_features=None, max_leaf_nodes=None,\n",
    "            min_impurity_split=1e-07, min_samples_leaf=1,\n",
    "            min_samples_split=2, min_weight_fraction_leaf=0.0,\n",
    "            presort=False, random_state=1, splitter='best')\n",
    "test_classifier(clf_dt, my_train_dataset, feature_list)\n",
    "clf_dt.fit(database_train, train_labels)\n",
    "#scoretr_dt = clf_dt.score(database_train, train_labels)\n",
    "#print \"Training accuracy: \",scoretr_dt\n",
    "scorete_dt = clf_dt.score(database_test, test_labels)\n",
    "print \"Test accuracy: \",scorete_dt\n",
    "pred_dt = clf_dt.predict(database_test)\n",
    "print \"Confusion matrix: \\n\",confusion_matrix(test_labels, pred_dt)\n",
    "print \"Recall score is: \", recall_score(test_labels, pred_dt)\n",
    "print \"Precision score is: \",precision_score(test_labels, pred_dt)\n",
    "print \"F1 score is: \",f1_score(test_labels, pred_dt)\n"
   ]
  },
  {
   "cell_type": "code",
   "execution_count": 175,
   "metadata": {
    "collapsed": false
   },
   "outputs": [
    {
     "data": {
      "text/plain": [
       "array([ 0.        ,  0.        ,  0.        ,  0.        ,  0.        ,\n",
       "        0.        ,  0.        ,  0.        ,  0.        ,  0.        ,\n",
       "        0.        ,  0.        ,  0.        ,  0.        ,  0.        ,\n",
       "        0.        ,  0.        ,  0.        ,  0.        ,  0.        ,\n",
       "        0.        ,  0.        ,  0.        ,  0.        ,  0.        ,\n",
       "        0.        ,  0.        ,  0.        ,  0.        ,  0.        ,\n",
       "        0.        ,  0.        ,  0.        ,  0.        ,  0.        ,\n",
       "        0.        ,  0.        ,  0.        ,  0.        ,  0.        ,\n",
       "        0.        ,  0.        ,  0.        ,  0.        ,  0.        ,\n",
       "        0.        ,  0.        ,  0.        ,  0.        ,  0.11525424,\n",
       "        0.        ,  0.        ,  0.        ,  0.        ,  0.        ,\n",
       "        0.        ,  0.        ,  0.        ,  0.88474576,  0.        ,\n",
       "        0.        ,  0.        ,  0.        ,  0.        ,  0.        ,\n",
       "        0.        ,  0.        ,  0.        ,  0.        ,  0.        ,\n",
       "        0.        ,  0.        ,  0.        ,  0.        ,  0.        ,\n",
       "        0.        ,  0.        ,  0.        ,  0.        ,  0.        ,\n",
       "        0.        ,  0.        ,  0.        ,  0.        ,  0.        ,\n",
       "        0.        ,  0.        ,  0.        ,  0.        ,  0.        ,\n",
       "        0.        ,  0.        ,  0.        ,  0.        ,  0.        ,\n",
       "        0.        ,  0.        ,  0.        ,  0.        ,  0.        ,\n",
       "        0.        ,  0.        ,  0.        ,  0.        ,  0.        ,\n",
       "        0.        ,  0.        ,  0.        ,  0.        ,  0.        ,\n",
       "        0.        ,  0.        ,  0.        ,  0.        ,  0.        ,\n",
       "        0.        ,  0.        ])"
      ]
     },
     "execution_count": 175,
     "metadata": {},
     "output_type": "execute_result"
    }
   ],
   "source": [
    "clf_dt.feature_importances_"
   ]
  },
  {
   "cell_type": "code",
   "execution_count": 176,
   "metadata": {
    "collapsed": false
   },
   "outputs": [
    {
     "name": "stdout",
     "output_type": "stream",
     "text": [
      "Test accuracy:  0.722222222222\n",
      "Confusion matrix: \n",
      "[[13  1]\n",
      " [ 4  0]]\n",
      "Recall score is:  0.0\n",
      "Precision score is:  0.0\n",
      "F1 score is:  0.0\n",
      "RandomForestClassifier(bootstrap=True, class_weight=None, criterion='gini',\n",
      "            max_depth=2, max_features='auto', max_leaf_nodes=None,\n",
      "            min_impurity_split=1e-07, min_samples_leaf=1,\n",
      "            min_samples_split=2, min_weight_fraction_leaf=0.0,\n",
      "            n_estimators=5, n_jobs=1, oob_score=False, random_state=42,\n",
      "            verbose=0, warm_start=False)\n"
     ]
    }
   ],
   "source": [
    "### Grid search to optimize random forest\n",
    "parameters ={'max_depth':[2, 4, 6, 8, 10], 'n_estimators':[5, 10, 20, 50]}\n",
    "rf = RandomForestClassifier(random_state=42)\n",
    "clf_rf = GridSearchCV(rf, parameters)\n",
    "clf_rf.fit(database_train, train_labels)\n",
    "#scoretr_rf = clf_rf.score(database_train, train_labels)\n",
    "#print \"Training accuracy: \",scoretr_rf\n",
    "scorete_rf = clf_rf.score(database_test, test_labels)\n",
    "print \"Test accuracy: \", scorete_rf\n",
    "pred_rf = clf_rf.predict(database_test)\n",
    "print \"Confusion matrix: \\n\", confusion_matrix(test_labels, pred_rf)\n",
    "print \"Recall score is: \", recall_score(test_labels, pred_rf)\n",
    "print \"Precision score is: \",precision_score(test_labels, pred_rf)\n",
    "print \"F1 score is: \",f1_score(test_labels, pred_rf)\n",
    "print clf_rf.best_estimator_"
   ]
  },
  {
   "cell_type": "code",
   "execution_count": 177,
   "metadata": {
    "collapsed": false
   },
   "outputs": [
    {
     "name": "stdout",
     "output_type": "stream",
     "text": [
      "RandomForestClassifier(bootstrap=True, class_weight=None, criterion='gini',\n",
      "            max_depth=2, max_features='auto', max_leaf_nodes=None,\n",
      "            min_impurity_split=1e-07, min_samples_leaf=1,\n",
      "            min_samples_split=2, min_weight_fraction_leaf=0.0,\n",
      "            n_estimators=5, n_jobs=1, oob_score=False, random_state=42,\n",
      "            verbose=0, warm_start=False)\n",
      "\tAccuracy: 0.96429\tPrecision: 0.96758\tRecall: 0.77600\tF1: 0.86127\tF2: 0.80800\n",
      "\tTotal predictions: 7000\tTrue positives:  776\tFalse positives:   26\tFalse negatives:  224\tTrue negatives: 5974\n",
      "\n",
      "Test accuracy:  0.722222222222\n",
      "Confusion matrix: \n",
      "[[13  1]\n",
      " [ 4  0]]\n",
      "Recall score is:  0.0\n",
      "Precision score is:  0.0\n",
      "F1 score is:  0.0\n"
     ]
    }
   ],
   "source": [
    "### Random forest\n",
    "clf_rf = RandomForestClassifier(bootstrap=True, class_weight=None, criterion='gini',\n",
    "            max_depth=2, max_features='auto', max_leaf_nodes=None,\n",
    "            min_impurity_split=1e-07, min_samples_leaf=1,\n",
    "            min_samples_split=2, min_weight_fraction_leaf=0.0,\n",
    "            n_estimators=5, n_jobs=1, oob_score=False, random_state=42,\n",
    "            verbose=0, warm_start=False)\n",
    "test_classifier(clf_rf, my_train_dataset, feature_list)\n",
    "clf_rf.fit(database_train, train_labels)\n",
    "#scoretr_rf = clf_rf.score(database_train, train_labels)\n",
    "#print \"Training accuracy: \", scoretr_rf\n",
    "scorete_rf = clf_rf.score(database_test, test_labels)\n",
    "print \"Test accuracy: \", scorete_rf\n",
    "pred_rf = clf_rf.predict(database_test)\n",
    "print \"Confusion matrix: \\n\", confusion_matrix(test_labels, pred_rf)\n",
    "print \"Recall score is: \", recall_score(test_labels, pred_rf)\n",
    "print \"Precision score is: \",precision_score(test_labels, pred_rf)\n",
    "print \"F1 score is: \",f1_score(test_labels, pred_rf)"
   ]
  },
  {
   "cell_type": "code",
   "execution_count": 178,
   "metadata": {
    "collapsed": false
   },
   "outputs": [
    {
     "data": {
      "text/plain": [
       "array([ 0.        ,  0.        ,  0.        ,  0.        ,  0.        ,\n",
       "        0.        ,  0.        ,  0.        ,  0.        ,  0.        ,\n",
       "        0.        ,  0.        ,  0.        ,  0.        ,  0.        ,\n",
       "        0.        ,  0.        ,  0.        ,  0.        ,  0.        ,\n",
       "        0.        ,  0.        ,  0.        ,  0.        ,  0.        ,\n",
       "        0.        ,  0.        ,  0.        ,  0.        ,  0.        ,\n",
       "        0.        ,  0.        ,  0.        ,  0.        ,  0.        ,\n",
       "        0.        ,  0.        ,  0.        ,  0.        ,  0.        ,\n",
       "        0.        ,  0.        ,  0.        ,  0.        ,  0.        ,\n",
       "        0.        ,  0.        ,  0.        ,  0.        ,  0.        ,\n",
       "        0.        ,  0.        ,  0.        ,  0.138322  ,  0.04533333,\n",
       "        0.        ,  0.05762712,  0.20405089,  0.35466667,  0.        ,\n",
       "        0.        ,  0.        ,  0.        ,  0.        ,  0.        ,\n",
       "        0.        ,  0.        ,  0.        ,  0.        ,  0.        ,\n",
       "        0.        ,  0.        ,  0.        ,  0.        ,  0.        ,\n",
       "        0.        ,  0.        ,  0.        ,  0.        ,  0.        ,\n",
       "        0.        ,  0.        ,  0.        ,  0.        ,  0.        ,\n",
       "        0.        ,  0.        ,  0.        ,  0.        ,  0.        ,\n",
       "        0.        ,  0.        ,  0.        ,  0.        ,  0.        ,\n",
       "        0.        ,  0.        ,  0.        ,  0.        ,  0.        ,\n",
       "        0.        ,  0.        ,  0.        ,  0.        ,  0.        ,\n",
       "        0.        ,  0.        ,  0.        ,  0.01766234,  0.        ,\n",
       "        0.        ,  0.        ,  0.        ,  0.        ,  0.        ,\n",
       "        0.        ,  0.18233766])"
      ]
     },
     "execution_count": 178,
     "metadata": {},
     "output_type": "execute_result"
    }
   ],
   "source": [
    "clf_rf.feature_importances_"
   ]
  },
  {
   "cell_type": "markdown",
   "metadata": {},
   "source": [
    "### Model selection\n",
    "Due to a relatively high F1 score and faster training and prediction time. The grid search decision tree was selected as the final model."
   ]
  },
  {
   "cell_type": "code",
   "execution_count": 179,
   "metadata": {
    "collapsed": true
   },
   "outputs": [],
   "source": [
    "clf = clf_rf"
   ]
  },
  {
   "cell_type": "markdown",
   "metadata": {},
   "source": [
    "### Assesment\n",
    "Assesment of the model using the benchmark code."
   ]
  },
  {
   "cell_type": "code",
   "execution_count": 180,
   "metadata": {
    "collapsed": false
   },
   "outputs": [
    {
     "name": "stdout",
     "output_type": "stream",
     "text": [
      "RandomForestClassifier(bootstrap=True, class_weight=None, criterion='gini',\n",
      "            max_depth=2, max_features='auto', max_leaf_nodes=None,\n",
      "            min_impurity_split=1e-07, min_samples_leaf=1,\n",
      "            min_samples_split=2, min_weight_fraction_leaf=0.0,\n",
      "            n_estimators=5, n_jobs=1, oob_score=False, random_state=42,\n",
      "            verbose=0, warm_start=False)\n",
      "\tAccuracy: 0.94011\tPrecision: 0.89673\tRecall: 0.52100\tF1: 0.65908\tF2: 0.56865\n",
      "\tTotal predictions: 9000\tTrue positives:  521\tFalse positives:   60\tFalse negatives:  479\tTrue negatives: 7940\n",
      "\n"
     ]
    }
   ],
   "source": [
    "dump_classifier_and_data(clf, my_dataset, features_list)\n",
    "clf, dataset, feature_list = load_classifier_and_data()\n",
    "### Run testing script\n",
    "test_classifier(clf, dataset, feature_list)"
   ]
  },
  {
   "cell_type": "markdown",
   "metadata": {},
   "source": [
    "### Disclaimer\n",
    "Some of the original features in the original dataset like 'email from poi to this person' or 'shared receipts with poi' are not constructed correctly since we are building a predictive model and there is no way to know if someone is a poi or not before investigation. Thankfully, my model did not use any of the financial data in the final random forest attempt as evident from the feature importance list.\n",
    "In addition, the benchmark code that measures accuracy of the model uses the both training and test data in the assesment, which is not the best practice.\n"
   ]
  }
 ],
 "metadata": {
  "anaconda-cloud": {},
  "kernelspec": {
   "display_name": "Python [py27]",
   "language": "python",
   "name": "Python [py27]"
  },
  "language_info": {
   "codemirror_mode": {
    "name": "ipython",
    "version": 2
   },
   "file_extension": ".py",
   "mimetype": "text/x-python",
   "name": "python",
   "nbconvert_exporter": "python",
   "pygments_lexer": "ipython2",
   "version": "2.7.13"
  }
 },
 "nbformat": 4,
 "nbformat_minor": 1
}
